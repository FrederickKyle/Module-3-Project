{
 "cells": [
  {
   "cell_type": "code",
   "execution_count": 34,
   "id": "ced8a023",
   "metadata": {},
   "outputs": [
    {
     "name": "stdout",
     "output_type": "stream",
     "text": [
      "What is the Down Payment? 40000\n",
      "What is the Closing Costs? 3000\n",
      "What is the Rehab Costs? 7000\n",
      "What is the Others Costs? 0\n",
      "<__main__.CashBack object at 0x0000020E47FFB460>\n",
      "The Total Investment is: 50000\n",
      "<__main__.CashBack object at 0x0000020E47FFB460>\n",
      "What is the Annual Cash Flow? 4680\n",
      "0.0936\n"
     ]
    }
   ],
   "source": [
    "# x = input('What is the Down Payment? ')\n",
    "# y = input('What is the Closing Costs? ')\n",
    "# z = input('What is the Rehab Costs? ')\n",
    "# l = input('What is the Others Costs? ')\n",
    "\n",
    "# Sum = int(x) + int(y) + int(z) + int(l)\n",
    "# print('The Total Investment is:', Sum)\n",
    "\n",
    "# k = input('What is the Annual Cash Flow? ')\n",
    "\n",
    "# Sum2 = int(k)\n",
    "\n",
    "# total = Sum2 / Sum\n",
    "# print(total)\n",
    "\n",
    "class CashBack:\n",
    "    \n",
    "    def __init__(self, x, y, z, l):\n",
    "        self.x = input('What is the Down Payment? ')\n",
    "        self.y = input('What is the Closing Costs? ')\n",
    "        self.z = input('What is the Rehab Costs? ')\n",
    "        self.l = input('What is the Others Costs? ')    \n",
    "    \n",
    "         \n",
    "quest = CashBack(x, y, z, l)\n",
    "Sum1 = int(x) + int(y) + int(z) + int(l)\n",
    "print(quest)\n",
    "print('The Total Investment is:', Sum1)\n",
    "print(quest)\n",
    "\n",
    "k = input('What is the Annual Cash Flow? ')\n",
    "Sum2 = int(k)\n",
    "\n",
    "total = Sum2 / Sum1\n",
    "print(total)"
   ]
  },
  {
   "cell_type": "code",
   "execution_count": null,
   "id": "0eb7ef1a",
   "metadata": {},
   "outputs": [],
   "source": []
  }
 ],
 "metadata": {
  "kernelspec": {
   "display_name": "Python 3 (ipykernel)",
   "language": "python",
   "name": "python3"
  },
  "language_info": {
   "codemirror_mode": {
    "name": "ipython",
    "version": 3
   },
   "file_extension": ".py",
   "mimetype": "text/x-python",
   "name": "python",
   "nbconvert_exporter": "python",
   "pygments_lexer": "ipython3",
   "version": "3.9.12"
  }
 },
 "nbformat": 4,
 "nbformat_minor": 5
}
